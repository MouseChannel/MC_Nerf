{
 "cells": [
  {
   "cell_type": "code",
   "execution_count": 123,
   "id": "initial_id",
   "metadata": {
    "collapsed": true,
    "ExecuteTime": {
     "end_time": "2023-10-25T11:52:21.097961200Z",
     "start_time": "2023-10-25T11:52:21.058907100Z"
    }
   },
   "outputs": [
    {
     "name": "stdout",
     "output_type": "stream",
     "text": [
      "Sequential(\n",
      "  (0): Encoding(n_input_dims=63, n_output_dims=1512, seed=1337, dtype=torch.float16, hyperparams={'n_frequencies': 12, 'otype': 'Frequency'})\n",
      "  (1): Network(n_input_dims=1512, n_output_dims=256, seed=1337, dtype=torch.float16, hyperparams={'encoding': {'offset': 0.0, 'otype': 'Identity', 'scale': 1.0}, 'network': {'activation': 'ReLU', 'n_hidden_layers': 5, 'n_neurons': 128, 'otype': 'FullyFusedMLP', 'output_activation': 'None'}, 'otype': 'NetworkWithInputEncoding'})\n",
      ")\n",
      "Sequential(\n",
      "  (0): Linear(in_features=63, out_features=256, bias=True)\n",
      "  (1): ReLU()\n",
      "  (2): Linear(in_features=256, out_features=256, bias=True)\n",
      "  (3): ReLU()\n",
      ")\n"
     ]
    }
   ],
   "source": [
    "import commentjson as json\n",
    "import tinycudann as tcnn\n",
    "import torch\n",
    "import torch.nn as nn\n",
    "\n",
    "with open(\"data/config.json\") as f:\n",
    "    config = json.load(f)\n",
    "\n",
    "n_input_dims = 63\n",
    "n_output_dims = 256\n",
    "# Option 1: efficient Encoding+Network combo.\n",
    "model = tcnn.NetworkWithInputEncoding(\n",
    "    n_input_dims, n_output_dims,\n",
    "    config[\"encoding\"], config[\"network\"]\n",
    ")\n",
    "# Option 2: separate modules. Slower but more flexible.\n",
    "encoding = tcnn.Encoding(n_input_dims, config[\"encoding\"])\n",
    "network = tcnn.Network(encoding.n_output_dims, n_output_dims, config[\"network\"])\n",
    "model = torch.nn.Sequential(encoding, network)\n",
    "print(model)\n",
    "\n",
    "model2 = torch.nn.Sequential(\n",
    "    nn.Linear(60 + 3, 256),\n",
    "    nn.ReLU(),\n",
    "    nn.Linear(256,256),\n",
    "    nn.ReLU(),\n",
    ")\n",
    "print(model2)"
   ]
  },
  {
   "cell_type": "code",
   "execution_count": 116,
   "outputs": [
    {
     "ename": "AttributeError",
     "evalue": "module 'torch' has no attribute 'size'",
     "output_type": "error",
     "traceback": [
      "\u001B[1;31m---------------------------------------------------------------------------\u001B[0m",
      "\u001B[1;31mAttributeError\u001B[0m                            Traceback (most recent call last)",
      "Cell \u001B[1;32mIn[116], line 5\u001B[0m\n\u001B[0;32m      3\u001B[0m sha \u001B[38;5;241m=\u001B[39m torch\u001B[38;5;241m.\u001B[39mtensor(aqw\u001B[38;5;241m.\u001B[39mshape)\n\u001B[0;32m      4\u001B[0m newshape \u001B[38;5;241m=\u001B[39m torch\u001B[38;5;241m.\u001B[39mcat([sha,torch\u001B[38;5;241m.\u001B[39mtensor([\u001B[38;5;241m128\u001B[39m])])\n\u001B[1;32m----> 5\u001B[0m aaa\u001B[38;5;241m.\u001B[39mreshape(\u001B[43mtorch\u001B[49m\u001B[38;5;241;43m.\u001B[39;49m\u001B[43msize\u001B[49m(newshape))\n\u001B[0;32m      7\u001B[0m \u001B[38;5;66;03m# torch.cat((sha,torch.tensor(4)))\u001B[39;00m\n\u001B[0;32m      8\u001B[0m \u001B[38;5;66;03m# sha\u001B[39;00m\n\u001B[0;32m      9\u001B[0m \u001B[38;5;66;03m# sha.expand(100,100,128,128)\u001B[39;00m\n\u001B[1;32m   (...)\u001B[0m\n\u001B[0;32m     13\u001B[0m \u001B[38;5;66;03m# aaa.reshape(torch.cat( [aaa.shape[:-1],4]) )\u001B[39;00m\n\u001B[0;32m     14\u001B[0m \u001B[38;5;66;03m# torch.cat(( torch.tensor (aaa.shape[:-1]),torch.tensor(4)),-1)\u001B[39;00m\n",
      "File \u001B[1;32mE:\\nerf\\MCNerf\\venv\\lib\\site-packages\\torch\\__init__.py:1833\u001B[0m, in \u001B[0;36m__getattr__\u001B[1;34m(name)\u001B[0m\n\u001B[0;32m   1830\u001B[0m     \u001B[38;5;28;01mimport\u001B[39;00m \u001B[38;5;21;01mimportlib\u001B[39;00m\n\u001B[0;32m   1831\u001B[0m     \u001B[38;5;28;01mreturn\u001B[39;00m importlib\u001B[38;5;241m.\u001B[39mimport_module(\u001B[38;5;124mf\u001B[39m\u001B[38;5;124m\"\u001B[39m\u001B[38;5;124m.\u001B[39m\u001B[38;5;132;01m{\u001B[39;00mname\u001B[38;5;132;01m}\u001B[39;00m\u001B[38;5;124m\"\u001B[39m, \u001B[38;5;18m__name__\u001B[39m)\n\u001B[1;32m-> 1833\u001B[0m \u001B[38;5;28;01mraise\u001B[39;00m \u001B[38;5;167;01mAttributeError\u001B[39;00m(\u001B[38;5;124mf\u001B[39m\u001B[38;5;124m\"\u001B[39m\u001B[38;5;124mmodule \u001B[39m\u001B[38;5;124m'\u001B[39m\u001B[38;5;132;01m{\u001B[39;00m\u001B[38;5;18m__name__\u001B[39m\u001B[38;5;132;01m}\u001B[39;00m\u001B[38;5;124m'\u001B[39m\u001B[38;5;124m has no attribute \u001B[39m\u001B[38;5;124m'\u001B[39m\u001B[38;5;132;01m{\u001B[39;00mname\u001B[38;5;132;01m}\u001B[39;00m\u001B[38;5;124m'\u001B[39m\u001B[38;5;124m\"\u001B[39m)\n",
      "\u001B[1;31mAttributeError\u001B[0m: module 'torch' has no attribute 'size'"
     ]
    }
   ],
   "source": [
    " \n",
    "aaa = torch.rand(1280000,128)\n",
    "aqw = torch.rand(100,100,128)\n",
    "sha = torch.tensor(aqw.shape)\n",
    "newshape = torch.cat([sha,torch.tensor([128])])\n",
    "aaa.reshape(torch.size(newshape))\n",
    "\n",
    "# torch.cat((sha,torch.tensor(4)))\n",
    "# sha\n",
    "# sha.expand(100,100,128,128)\n",
    "# sha.shape\n",
    "# aaa.reshape(aqw.shape.append(128))\n",
    "# torch.cat((torch.tensor (aaa.shape[:-1]),4),-1)\n",
    "# aaa.reshape(torch.cat( [aaa.shape[:-1],4]) )\n",
    "# torch.cat(( torch.tensor (aaa.shape[:-1]),torch.tensor(4)),-1)"
   ],
   "metadata": {
    "collapsed": false,
    "ExecuteTime": {
     "end_time": "2023-10-25T07:14:42.790363700Z",
     "start_time": "2023-10-25T07:14:40.989843700Z"
    }
   },
   "id": "bcc05dcd10b02d1d"
  }
 ],
 "metadata": {
  "kernelspec": {
   "display_name": "Python 3",
   "language": "python",
   "name": "python3"
  },
  "language_info": {
   "codemirror_mode": {
    "name": "ipython",
    "version": 2
   },
   "file_extension": ".py",
   "mimetype": "text/x-python",
   "name": "python",
   "nbconvert_exporter": "python",
   "pygments_lexer": "ipython2",
   "version": "2.7.6"
  }
 },
 "nbformat": 4,
 "nbformat_minor": 5
}
